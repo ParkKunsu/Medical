{
 "cells": [
  {
   "cell_type": "markdown",
   "id": "6a398633",
   "metadata": {},
   "source": [
    "# 어텐션 핵심 원리"
   ]
  },
  {
   "cell_type": "code",
   "execution_count": 1,
   "id": "58e70755",
   "metadata": {},
   "outputs": [
    {
     "name": "stdout",
     "output_type": "stream",
     "text": [
      "임베딩 행렬의 형태: (3, 5, 512)\n"
     ]
    }
   ],
   "source": [
    "import numpy as np\n",
    "\n",
    "# 전체 출력 형식을 소수점 이하 네 자리로 설정\n",
    "np.set_printoptions(precision=4, suppress=True)\n",
    "\n",
    "# 단어와 해당 임베딩 벡터를 딕셔너리로 정의\n",
    "embedding_dict = {\n",
    "    \"<sos>\": np.random.rand(512),\n",
    "    \"<eos>\": np.random.rand(512),\n",
    "    \"커피\": np.random.rand(512),\n",
    "    \"한잔\": np.random.rand(512),\n",
    "    \"어때\": np.random.rand(512),\n",
    "    \"오늘\": np.random.rand(512),\n",
    "    \"날씨\": np.random.rand(512),\n",
    "    \"좋네\": np.random.rand(512),\n",
    "    \"옷이\": np.random.rand(512),\n",
    "    \"어울려요\": np.random.rand(512),\n",
    "    \"PAD\": np.zeros(512),  # 패딩 벡터는 0으로 채움\n",
    "}\n",
    "\n",
    "# 입력 문장\n",
    "sentences = [[\"<sos>\", \"커피\", \"한잔\", \"어때\", \"<eos>\"], [\"<sos>\", \"오늘\", \"날씨\", \"좋네\", \"<eos>\"], [\"<sos>\", \"옷이\", \"어울려요\", \"<eos>\", \"PAD\"]]\n",
    "\n",
    "# 토큰을 임베딩 벡터로 변환\n",
    "embeddings = np.array([[embedding_dict[token] for token in sentence] for sentence in sentences])\n",
    "print(\"임베딩 행렬의 형태:\", embeddings.shape)"
   ]
  },
  {
   "cell_type": "code",
   "execution_count": 2,
   "id": "83e32d6f",
   "metadata": {},
   "outputs": [
    {
     "name": "stdout",
     "output_type": "stream",
     "text": [
      "쿼리 행렬의 형태: (3, 5, 64)\n",
      "키 행렬의 형태: (3, 64, 5)\n",
      "밸류 행렬의 형태: (3, 5, 64)\n"
     ]
    }
   ],
   "source": [
    "# 쿼리, 키, 밸류 행렬 초기화\n",
    "num_heads = 8\n",
    "head_dim = 512 // num_heads  # 각 헤드의 차원\n",
    "heads = np.split(embeddings, num_heads, axis=2)  # 512차원 임베딩 벡터를 8개의 헤드로 분할하여 heads에 저장\n",
    "queries = heads.copy()\n",
    "keys = [\n",
    "    head.transpose(0, 2, 1) for head in heads\n",
    "]  # 키 행렬을 각 헤드의 전치를 통해 초기화 (첫 번째 축: 배치 크기, 두 번째 축: 문장 길이, 세 번째 축: 헤드 차원)\n",
    "values = heads.copy()\n",
    "\n",
    "print(\"쿼리 행렬의 형태:\", queries[0].shape)\n",
    "print(\"키 행렬의 형태:\", keys[0].shape)\n",
    "print(\"밸류 행렬의 형태:\", values[0].shape)"
   ]
  },
  {
   "cell_type": "code",
   "execution_count": 3,
   "id": "fd87e9e5",
   "metadata": {},
   "outputs": [
    {
     "name": "stdout",
     "output_type": "stream",
     "text": [
      "어텐션 이전의 임베딩 테이블 중 '커피', '한잔', '어때' 토큰의 평균 값:\n",
      "[0.5138 0.5104 0.4783]\n"
     ]
    }
   ],
   "source": [
    "# 특정 토큰 (커피, 한잔, 어때)의 인덱스\n",
    "tokens_of_interest = [\"커피\", \"한잔\", \"어때\"]\n",
    "indices_of_interest = [sentences[0].index(token) for token in tokens_of_interest]\n",
    "\n",
    "# 어텐션 이전의 임베딩 테이블 중 특정 토큰들의 평균 값 계산\n",
    "print(\"어텐션 이전의 임베딩 테이블 중 '커피', '한잔', '어때' 토큰의 평균 값:\")\n",
    "initial_avg = np.mean(embeddings[0, indices_of_interest, :], axis=1)\n",
    "print(initial_avg)"
   ]
  },
  {
   "cell_type": "code",
   "execution_count": 4,
   "id": "ec9cdeb7",
   "metadata": {},
   "outputs": [
    {
     "name": "stdout",
     "output_type": "stream",
     "text": [
      "어텐션 이후의 결과 중 '커피', '한잔', '어때' 토큰의 평균 값:\n",
      "[0.5141 0.513  0.5067]\n"
     ]
    }
   ],
   "source": [
    "# 스케일링 및 어텐션 스코어 계산\n",
    "attention_scores = np.matmul(queries[0], keys[0])\n",
    "scaling_factor = np.sqrt(head_dim)\n",
    "scaled_attention_scores = attention_scores / scaling_factor\n",
    "\n",
    "# 패딩 처리\n",
    "mask = np.array([[token == \"PAD\" for token in sentence] for sentence in sentences])\n",
    "mask = mask[:, np.newaxis, :]  # 차원을 맞추기 위해 확장\n",
    "scaled_attention_scores = np.where(mask, -np.inf, scaled_attention_scores)\n",
    "\n",
    "\n",
    "# 소프트맥스 적용 함수\n",
    "def softmax(x):\n",
    "    exp_x = np.exp(x - np.max(x, axis=-1, keepdims=True))\n",
    "    return exp_x / np.sum(exp_x, axis=-1, keepdims=True)\n",
    "\n",
    "\n",
    "# 복원된 헤드를 저장할 리스트\n",
    "restored_heads = []\n",
    "\n",
    "for i in range(num_heads):\n",
    "    query = queries[i]\n",
    "    key = keys[i]\n",
    "    value = values[i]\n",
    "\n",
    "    # 내적 계산 후 스케일링\n",
    "    attention_scores = np.matmul(query, key) / scaling_factor\n",
    "\n",
    "    # 패딩 처리\n",
    "    mask = np.array([[token == \"PAD\" for token in sentence] for sentence in sentences])\n",
    "    mask = mask[:, np.newaxis, :]  # 차원을 맞추기 위해 확장\n",
    "    attention_scores = np.where(mask, -np.inf, attention_scores)\n",
    "\n",
    "    # 소프트맥스 적용\n",
    "    attention_weights = softmax(attention_scores)\n",
    "\n",
    "    # 밸류와의 곱셈\n",
    "    restored_head = np.matmul(attention_weights, value)\n",
    "    restored_heads.append(restored_head)\n",
    "\n",
    "# 모든 헤드를 결합하여 원래 차원으로 복원\n",
    "final_output = np.concatenate(restored_heads, axis=2)\n",
    "\n",
    "# 어텐션 이후의 결과 중 특정 토큰들의 평균 값 계산\n",
    "print(\"어텐션 이후의 결과 중 '커피', '한잔', '어때' 토큰의 평균 값:\")\n",
    "final_avg = np.mean(final_output[0, indices_of_interest, :], axis=1)\n",
    "print(final_avg)"
   ]
  }
 ],
 "metadata": {
  "kernelspec": {
   "display_name": "fast",
   "language": "python",
   "name": "python3"
  },
  "language_info": {
   "codemirror_mode": {
    "name": "ipython",
    "version": 3
   },
   "file_extension": ".py",
   "mimetype": "text/x-python",
   "name": "python",
   "nbconvert_exporter": "python",
   "pygments_lexer": "ipython3",
   "version": "3.10.16"
  }
 },
 "nbformat": 4,
 "nbformat_minor": 5
}
