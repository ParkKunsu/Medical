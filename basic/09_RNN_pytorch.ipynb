{
 "cells": [
  {
   "cell_type": "code",
   "execution_count": 1,
   "id": "89977a8d",
   "metadata": {},
   "outputs": [],
   "source": [
    "import torch\n",
    "import torch.nn as nn\n",
    "import torchvision.transforms as transforms\n",
    "import torchvision.datasets as dset"
   ]
  },
  {
   "cell_type": "code",
   "execution_count": 2,
   "id": "1ef94c12",
   "metadata": {},
   "outputs": [
    {
     "name": "stderr",
     "output_type": "stream",
     "text": [
      "100%|██████████| 9.91M/9.91M [00:04<00:00, 2.17MB/s]\n",
      "100%|██████████| 28.9k/28.9k [00:00<00:00, 157kB/s]\n",
      "100%|██████████| 1.65M/1.65M [00:01<00:00, 1.41MB/s]\n",
      "100%|██████████| 4.54k/4.54k [00:00<00:00, 4.28MB/s]\n"
     ]
    }
   ],
   "source": [
    "# mnist 데이터 다운\n",
    "train_dataset = dset.MNIST(root=\".\", train=True, transform=transforms.ToTensor(), download=True)\n",
    "\n",
    "test_dataset = dset.MNIST(root=\".\", train=False, transform=transforms.ToTensor())"
   ]
  },
  {
   "cell_type": "code",
   "execution_count": 3,
   "id": "159d2776",
   "metadata": {},
   "outputs": [],
   "source": [
    "# 데이터 로더 설정\n",
    "\n",
    "batch_size = 100\n",
    "\n",
    "train_loader = torch.utils.data.DataLoader(dataset=train_dataset, batch_size=batch_size, shuffle=True)\n",
    "\n",
    "test_loader = torch.utils.data.DataLoader(dataset=test_dataset, batch_size=batch_size, shuffle=False)"
   ]
  },
  {
   "cell_type": "code",
   "execution_count": 4,
   "id": "f370c002",
   "metadata": {},
   "outputs": [],
   "source": [
    "# RNN 모델 정의\n",
    "class RNNModel(nn.Module):\n",
    "    def __init__(self, input_dim, hidden_dim, layer_dim, output_dim):\n",
    "        super(RNNModel, self).__init__()\n",
    "        self.hidden_dim = hidden_dim\n",
    "        self.layer_dim = layer_dim\n",
    "\n",
    "        self.rnn = nn.RNN(input_dim, hidden_dim, layer_dim, batch_first=True, nonlinearity=\"relu\")\n",
    "        self.fc = nn.Linear(hidden_dim, output_dim)\n",
    "\n",
    "    def forward(self, x):\n",
    "        h0 = torch.zeros(self.layer_dim, x.size(0), self.hidden_dim).to(x.device)\n",
    "\n",
    "        out, hn = self.rnn(x, h0)\n",
    "\n",
    "        out = self.fc(out[:, -1, :])\n",
    "\n",
    "        return out"
   ]
  },
  {
   "cell_type": "code",
   "execution_count": 5,
   "id": "d50a06e4",
   "metadata": {},
   "outputs": [],
   "source": [
    "input_dim = 28\n",
    "hidden_dim = 100\n",
    "layer_dim = 1\n",
    "output_dim = 10\n",
    "device = torch.device(\"cuda:0\" if torch.cuda.is_available() else \"cpu\")\n",
    "\n",
    "model = RNNModel(input_dim, hidden_dim, layer_dim, output_dim).to(device)"
   ]
  },
  {
   "cell_type": "code",
   "execution_count": 6,
   "id": "e1b54dc6",
   "metadata": {},
   "outputs": [],
   "source": [
    "criterion = nn.CrossEntropyLoss()"
   ]
  },
  {
   "cell_type": "code",
   "execution_count": 7,
   "id": "2b8ad013",
   "metadata": {},
   "outputs": [],
   "source": [
    "learning_rate = 0.01\n",
    "\n",
    "optimizer = torch.optim.SGD(model.parameters(), lr=learning_rate)"
   ]
  },
  {
   "cell_type": "code",
   "execution_count": 8,
   "id": "4f9056ab",
   "metadata": {},
   "outputs": [
    {
     "name": "stdout",
     "output_type": "stream",
     "text": [
      "Epoch: 0. Loss: 2.3044214248657227. Accuracy: 11.34999942779541\n",
      "Epoch: 1. Loss: 2.302661657333374. Accuracy: 12.739999771118164\n",
      "Epoch: 2. Loss: 2.2625679969787598. Accuracy: 18.709999084472656\n",
      "Epoch: 3. Loss: 1.5503034591674805. Accuracy: 43.0\n",
      "Epoch: 4. Loss: 1.218593955039978. Accuracy: 58.38999938964844\n",
      "Epoch: 5. Loss: 0.8290705680847168. Accuracy: 75.0\n",
      "Epoch: 6. Loss: 0.5029712319374084. Accuracy: 81.40999603271484\n",
      "Epoch: 7. Loss: 0.4498375952243805. Accuracy: 83.63999938964844\n",
      "Epoch: 8. Loss: 0.4952700436115265. Accuracy: 86.62999725341797\n",
      "Epoch: 9. Loss: 0.3397103250026703. Accuracy: 88.04000091552734\n",
      "Epoch: 10. Loss: 0.30995312333106995. Accuracy: 91.31999969482422\n",
      "Epoch: 11. Loss: 0.37690165638923645. Accuracy: 91.0\n",
      "Epoch: 12. Loss: 0.17120212316513062. Accuracy: 93.43000030517578\n",
      "Epoch: 13. Loss: 0.34022143483161926. Accuracy: 91.80999755859375\n",
      "Epoch: 14. Loss: 0.2681252360343933. Accuracy: 94.0199966430664\n",
      "Epoch: 15. Loss: 0.12808431684970856. Accuracy: 93.7699966430664\n",
      "Epoch: 16. Loss: 0.09959498047828674. Accuracy: 95.0\n",
      "Epoch: 17. Loss: 0.18107469379901886. Accuracy: 94.97999572753906\n",
      "Epoch: 18. Loss: 0.12285199016332626. Accuracy: 95.69999694824219\n",
      "Epoch: 19. Loss: 0.11731606721878052. Accuracy: 95.73999786376953\n"
     ]
    }
   ],
   "source": [
    "num_epochs = 20\n",
    "\n",
    "\n",
    "for epoch in range(num_epochs):\n",
    "    model.train()\n",
    "    for images, labels in train_loader:\n",
    "        images = images.to(device)\n",
    "        labels = labels.to(device)\n",
    "\n",
    "        images = images.view(-1, input_dim, input_dim)\n",
    "\n",
    "        optimizer.zero_grad()\n",
    "        outputs = model(images)\n",
    "        loss = criterion(outputs, labels)\n",
    "\n",
    "        loss.backward()\n",
    "        optimizer.step()\n",
    "\n",
    "    model.eval()\n",
    "    correct = 0\n",
    "    total = 0\n",
    "    for images, labels in test_loader:\n",
    "        images = images.to(device)\n",
    "        labels = labels.to(device)\n",
    "\n",
    "        images = images.view(-1, 28, input_dim)\n",
    "\n",
    "        outputs = model(images)\n",
    "        _, predicted = torch.max(outputs.data, 1)\n",
    "\n",
    "        total += labels.size(0)\n",
    "        correct += (predicted == labels).sum()\n",
    "\n",
    "    accuracy = 100 * correct / total\n",
    "\n",
    "    print(\"Epoch: {}. Loss: {}. Accuracy: {}\".format(epoch, loss.item(), accuracy))"
   ]
  }
 ],
 "metadata": {
  "kernelspec": {
   "display_name": "fast",
   "language": "python",
   "name": "python3"
  },
  "language_info": {
   "codemirror_mode": {
    "name": "ipython",
    "version": 3
   },
   "file_extension": ".py",
   "mimetype": "text/x-python",
   "name": "python",
   "nbconvert_exporter": "python",
   "pygments_lexer": "ipython3",
   "version": "3.10.16"
  }
 },
 "nbformat": 4,
 "nbformat_minor": 5
}
