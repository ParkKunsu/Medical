{
 "cells": [
  {
   "cell_type": "markdown",
   "id": "7fcdf6c0",
   "metadata": {},
   "source": [
    "# Pathology 전처리 하기"
   ]
  },
  {
   "cell_type": "code",
   "execution_count": 1,
   "id": "9205dfc8",
   "metadata": {},
   "outputs": [],
   "source": [
    "## Path관련 library\n",
    "from pathlib import Path  # data path관련\n",
    "\n",
    "## WSI관련 library\n",
    "import openslide  # WSI 읽어오는 library\n",
    "import cv2  # 기본적인 CV library\n",
    "import seaborn as sns  # data analysis library\n",
    "\n",
    "## etc\n",
    "import pandas as pd  # csv, dataframe 사용 library\n",
    "import numpy as np\n",
    "import matplotlib.pyplot as plt  # image visulization library\n",
    "\n",
    "## color normalize\n",
    "import staintools  # spams 설치가 필요한데 python 3.9 버전 이하에서만 설치가능함"
   ]
  },
  {
   "cell_type": "code",
   "execution_count": 2,
   "id": "396313f5",
   "metadata": {},
   "outputs": [],
   "source": [
    "# 우선적으로 datset을 읽어와줍니다.\n",
    "class cfg:\n",
    "    # Location of the training images\n",
    "    BASE_PATH = \"/mnt/d/Data/medical/panda\"\n",
    "    # image and mask directories\n",
    "    data_dir = f\"{BASE_PATH}/train_images\"\n",
    "    mask_dir = f\"{BASE_PATH}/train_label_masks\""
   ]
  },
  {
   "cell_type": "code",
   "execution_count": 3,
   "id": "4fe649ad",
   "metadata": {},
   "outputs": [
    {
     "data": {
      "text/html": [
       "<div>\n",
       "<style scoped>\n",
       "    .dataframe tbody tr th:only-of-type {\n",
       "        vertical-align: middle;\n",
       "    }\n",
       "\n",
       "    .dataframe tbody tr th {\n",
       "        vertical-align: top;\n",
       "    }\n",
       "\n",
       "    .dataframe thead th {\n",
       "        text-align: right;\n",
       "    }\n",
       "</style>\n",
       "<table border=\"1\" class=\"dataframe\">\n",
       "  <thead>\n",
       "    <tr style=\"text-align: right;\">\n",
       "      <th></th>\n",
       "      <th>image_id</th>\n",
       "      <th>data_provider</th>\n",
       "      <th>isup_grade</th>\n",
       "      <th>gleason_score</th>\n",
       "    </tr>\n",
       "  </thead>\n",
       "  <tbody>\n",
       "    <tr>\n",
       "      <th>0</th>\n",
       "      <td>0005f7aaab2800f6170c399693a96917</td>\n",
       "      <td>karolinska</td>\n",
       "      <td>0</td>\n",
       "      <td>0+0</td>\n",
       "    </tr>\n",
       "    <tr>\n",
       "      <th>1</th>\n",
       "      <td>000920ad0b612851f8e01bcc880d9b3d</td>\n",
       "      <td>karolinska</td>\n",
       "      <td>0</td>\n",
       "      <td>0+0</td>\n",
       "    </tr>\n",
       "    <tr>\n",
       "      <th>2</th>\n",
       "      <td>0018ae58b01bdadc8e347995b69f99aa</td>\n",
       "      <td>radboud</td>\n",
       "      <td>4</td>\n",
       "      <td>4+4</td>\n",
       "    </tr>\n",
       "    <tr>\n",
       "      <th>3</th>\n",
       "      <td>001c62abd11fa4b57bf7a6c603a11bb9</td>\n",
       "      <td>karolinska</td>\n",
       "      <td>4</td>\n",
       "      <td>4+4</td>\n",
       "    </tr>\n",
       "    <tr>\n",
       "      <th>4</th>\n",
       "      <td>001d865e65ef5d2579c190a0e0350d8f</td>\n",
       "      <td>karolinska</td>\n",
       "      <td>0</td>\n",
       "      <td>0+0</td>\n",
       "    </tr>\n",
       "  </tbody>\n",
       "</table>\n",
       "</div>"
      ],
      "text/plain": [
       "                           image_id data_provider  isup_grade gleason_score\n",
       "0  0005f7aaab2800f6170c399693a96917    karolinska           0           0+0\n",
       "1  000920ad0b612851f8e01bcc880d9b3d    karolinska           0           0+0\n",
       "2  0018ae58b01bdadc8e347995b69f99aa       radboud           4           4+4\n",
       "3  001c62abd11fa4b57bf7a6c603a11bb9    karolinska           4           4+4\n",
       "4  001d865e65ef5d2579c190a0e0350d8f    karolinska           0           0+0"
      ]
     },
     "execution_count": 3,
     "metadata": {},
     "output_type": "execute_result"
    }
   ],
   "source": [
    "# csv 파일을 읽어 data의 경로를 확인합니다\n",
    "train = pd.read_csv(f\"{cfg.BASE_PATH}/train.csv\")\n",
    "train.head()"
   ]
  },
  {
   "cell_type": "code",
   "execution_count": null,
   "id": "e0543230",
   "metadata": {},
   "outputs": [
    {
     "data": {
      "text/html": [
       "<div>\n",
       "<style scoped>\n",
       "    .dataframe tbody tr th:only-of-type {\n",
       "        vertical-align: middle;\n",
       "    }\n",
       "\n",
       "    .dataframe tbody tr th {\n",
       "        vertical-align: top;\n",
       "    }\n",
       "\n",
       "    .dataframe thead th {\n",
       "        text-align: right;\n",
       "    }\n",
       "</style>\n",
       "<table border=\"1\" class=\"dataframe\">\n",
       "  <thead>\n",
       "    <tr style=\"text-align: right;\">\n",
       "      <th></th>\n",
       "      <th>image_id</th>\n",
       "      <th>data_provider</th>\n",
       "      <th>isup_grade</th>\n",
       "      <th>gleason_score</th>\n",
       "      <th>img_path</th>\n",
       "    </tr>\n",
       "  </thead>\n",
       "  <tbody>\n",
       "    <tr>\n",
       "      <th>0</th>\n",
       "      <td>0005f7aaab2800f6170c399693a96917</td>\n",
       "      <td>karolinska</td>\n",
       "      <td>0</td>\n",
       "      <td>0+0</td>\n",
       "      <td>/mnt/d/Data/medical/panda/train_images/0005f7a...</td>\n",
       "    </tr>\n",
       "    <tr>\n",
       "      <th>1</th>\n",
       "      <td>000920ad0b612851f8e01bcc880d9b3d</td>\n",
       "      <td>karolinska</td>\n",
       "      <td>0</td>\n",
       "      <td>0+0</td>\n",
       "      <td>/mnt/d/Data/medical/panda/train_images/000920a...</td>\n",
       "    </tr>\n",
       "    <tr>\n",
       "      <th>2</th>\n",
       "      <td>0018ae58b01bdadc8e347995b69f99aa</td>\n",
       "      <td>radboud</td>\n",
       "      <td>4</td>\n",
       "      <td>4+4</td>\n",
       "      <td>/mnt/d/Data/medical/panda/train_images/0018ae5...</td>\n",
       "    </tr>\n",
       "    <tr>\n",
       "      <th>3</th>\n",
       "      <td>001c62abd11fa4b57bf7a6c603a11bb9</td>\n",
       "      <td>karolinska</td>\n",
       "      <td>4</td>\n",
       "      <td>4+4</td>\n",
       "      <td>/mnt/d/Data/medical/panda/train_images/001c62a...</td>\n",
       "    </tr>\n",
       "    <tr>\n",
       "      <th>4</th>\n",
       "      <td>001d865e65ef5d2579c190a0e0350d8f</td>\n",
       "      <td>karolinska</td>\n",
       "      <td>0</td>\n",
       "      <td>0+0</td>\n",
       "      <td>/mnt/d/Data/medical/panda/train_images/001d865...</td>\n",
       "    </tr>\n",
       "  </tbody>\n",
       "</table>\n",
       "</div>"
      ],
      "text/plain": [
       "                           image_id data_provider  isup_grade gleason_score  \\\n",
       "0  0005f7aaab2800f6170c399693a96917    karolinska           0           0+0   \n",
       "1  000920ad0b612851f8e01bcc880d9b3d    karolinska           0           0+0   \n",
       "2  0018ae58b01bdadc8e347995b69f99aa       radboud           4           4+4   \n",
       "3  001c62abd11fa4b57bf7a6c603a11bb9    karolinska           4           4+4   \n",
       "4  001d865e65ef5d2579c190a0e0350d8f    karolinska           0           0+0   \n",
       "\n",
       "                                            img_path  \n",
       "0  /mnt/d/Data/medical/panda/train_images/0005f7a...  \n",
       "1  /mnt/d/Data/medical/panda/train_images/000920a...  \n",
       "2  /mnt/d/Data/medical/panda/train_images/0018ae5...  \n",
       "3  /mnt/d/Data/medical/panda/train_images/001c62a...  \n",
       "4  /mnt/d/Data/medical/panda/train_images/001d865...  "
      ]
     },
     "execution_count": 4,
     "metadata": {},
     "output_type": "execute_result"
    }
   ],
   "source": [
    "train[\"img_path\"] = train[\"image_id\"].apply(lambda x: Path(cfg.data_dir) / (x + \".tiff\"))\n",
    "train.head()"
   ]
  },
  {
   "cell_type": "code",
   "execution_count": null,
   "id": "47c56401",
   "metadata": {},
   "outputs": [
    {
     "data": {
      "text/plain": [
       "PosixPath('/mnt/d/Data/medical/panda/train_images/0005f7aaab2800f6170c399693a96917.png')"
      ]
     },
     "execution_count": 5,
     "metadata": {},
     "output_type": "execute_result"
    }
   ],
   "source": [
    "train[\"img_path\"][0]"
   ]
  },
  {
   "cell_type": "markdown",
   "id": "eae10b52",
   "metadata": {},
   "source": [
    "얻어지는 level에 따라서 size가 달라지며 pixel간에 거리가 다르다"
   ]
  },
  {
   "cell_type": "code",
   "execution_count": 7,
   "id": "bd30fdb4",
   "metadata": {},
   "outputs": [
    {
     "data": {
      "text/plain": [
       "PosixPath('/mnt/d/Data/medical/panda/train_images/0005f7aaab2800f6170c399693a96917.png')"
      ]
     },
     "execution_count": 7,
     "metadata": {},
     "output_type": "execute_result"
    }
   ],
   "source": [
    "train.loc[0, \"img_path\"]"
   ]
  },
  {
   "cell_type": "code",
   "execution_count": null,
   "id": "094043df",
   "metadata": {},
   "outputs": [
    {
     "ename": "AttributeError",
     "evalue": "'PngImageFile' object has no attribute 'level_count'",
     "output_type": "error",
     "traceback": [
      "\u001b[0;31m---------------------------------------------------------------------------\u001b[0m",
      "\u001b[0;31mAttributeError\u001b[0m                            Traceback (most recent call last)",
      "Cell \u001b[0;32mIn[8], line 6\u001b[0m\n\u001b[1;32m      3\u001b[0m \u001b[38;5;28;01mfrom\u001b[39;00m \u001b[38;5;21;01mPIL\u001b[39;00m \u001b[38;5;28;01mimport\u001b[39;00m Image\n\u001b[1;32m      5\u001b[0m image \u001b[38;5;241m=\u001b[39m Image\u001b[38;5;241m.\u001b[39mopen(train\u001b[38;5;241m.\u001b[39mloc[\u001b[38;5;241m0\u001b[39m, \u001b[38;5;124m\"\u001b[39m\u001b[38;5;124mimg_path\u001b[39m\u001b[38;5;124m\"\u001b[39m])\n\u001b[0;32m----> 6\u001b[0m max_level \u001b[38;5;241m=\u001b[39m \u001b[43mimage\u001b[49m\u001b[38;5;241;43m.\u001b[39;49m\u001b[43mlevel_count\u001b[49m  \u001b[38;5;66;03m# 가장 해상도가 적은 image 순서 가져오기\u001b[39;00m\n\u001b[1;32m      7\u001b[0m \u001b[38;5;28mprint\u001b[39m(image\u001b[38;5;241m.\u001b[39mlevel_dimensions, image\u001b[38;5;241m.\u001b[39mlevel_count)\n\u001b[1;32m      8\u001b[0m level \u001b[38;5;241m=\u001b[39m max_level \u001b[38;5;241m-\u001b[39m \u001b[38;5;241m3\u001b[39m\n",
      "\u001b[0;31mAttributeError\u001b[0m: 'PngImageFile' object has no attribute 'level_count'"
     ]
    }
   ],
   "source": [
    "image = openslide.OpenSlide(train.loc[0, \"img_path\"])  # openslid로 tiff 읽기\n",
    "max_level = image.level_count  # 가장 해상도가 적은 image 순서 가져오기\n",
    "print(image.level_dimensions, image.level_count)\n",
    "level = max_level - 3\n",
    "small_patch = image.read_region((7100, 10000), level, (1024, 1024))  # r\n",
    "\n",
    "level = max_level - 2\n",
    "minum_patch = image.read_region((7100 // pow(2, 1), 10000 // pow(2, 1)), level, (1024, 1024))  # r\n",
    "\n",
    "level = max_level - 1\n",
    "min_size = image.level_dimensions[level]\n",
    "large_patch = image.read_region((7100 // pow(2, 3), 10000 // pow(2, 3)), level, (1024, 1024))  # r"
   ]
  },
  {
   "cell_type": "markdown",
   "id": "6027ee9e",
   "metadata": {},
   "source": [
    "openslide read region에 방법  \n",
    "location : 영상이 시작되어지는 위치  \n",
    "level : Pyramid 영상중에 어떠한 Level를 선택할지"
   ]
  },
  {
   "cell_type": "code",
   "execution_count": null,
   "id": "6b73910b",
   "metadata": {},
   "outputs": [],
   "source": [
    "f, ax = plt.subplots(1, 3, figsize=(15, 15))\n",
    "ax[0].imshow(small_patch)\n",
    "ax[1].imshow(minum_patch)\n",
    "ax[2].imshow(large_patch)"
   ]
  },
  {
   "cell_type": "markdown",
   "id": "f9a7ad78",
   "metadata": {},
   "source": [
    "# 전처리"
   ]
  },
  {
   "cell_type": "markdown",
   "id": "c601b1dc",
   "metadata": {},
   "source": [
    "### tile(patching)"
   ]
  },
  {
   "cell_type": "code",
   "execution_count": null,
   "id": "86182dba",
   "metadata": {},
   "outputs": [],
   "source": [
    "import skimage # 빠른 이미지 load를 위해서 사용\n",
    "import openslide \n",
    "%time image_a = openslide.OpenSlide(train.loc[0,'img_path'])\n",
    "%time image_b = skimage.io.MultiImage(str(train.loc[0,'img_path']))"
   ]
  },
  {
   "cell_type": "markdown",
   "id": "a6cc5117",
   "metadata": {},
   "source": [
    "\n",
    "Patch로 자르기 이전에 pathology image에서는 white즉 흰공간이 너무 많다.\n",
    "이를 제거해주는 간편한 코드를 사용해보자."
   ]
  },
  {
   "cell_type": "code",
   "execution_count": null,
   "id": "a3a55bd1",
   "metadata": {},
   "outputs": [],
   "source": [
    "level = max_level - 1\n",
    "min_size = image_a.level_dimensions[level]\n",
    "large_patch = image_a.read_region((0, 0), level, min_size)  # r"
   ]
  },
  {
   "cell_type": "code",
   "execution_count": null,
   "id": "43910519",
   "metadata": {},
   "outputs": [],
   "source": [
    "## int8로 되어있음.\n",
    "fig, ax = plt.subplots(1, 3, figsize=(10, 2))\n",
    "sns.histplot(np.array(large_patch)[..., 0].ravel(), ax=ax[0])\n",
    "sns.histplot(np.array(large_patch)[..., 1].ravel(), ax=ax[1])\n",
    "sns.histplot(np.array(large_patch)[..., 2].ravel(), ax=ax[2])"
   ]
  },
  {
   "cell_type": "code",
   "execution_count": null,
   "id": "23a3b84b",
   "metadata": {},
   "outputs": [],
   "source": [
    "## crop white region\n",
    "def crop_white(image: np.ndarray) -> np.ndarray:\n",
    "    assert image.shape[2] == 3\n",
    "    assert image.dtype == np.uint8\n",
    "    (ys,) = (image.min((1, 2)) != 255).nonzero()\n",
    "    (xs,) = (image.min(0).min(1) != 255).nonzero()\n",
    "    if len(xs) == 0 or len(ys) == 0:\n",
    "        return image\n",
    "    return image[ys.min() : ys.max() + 1, xs.min() : xs.max() + 1]"
   ]
  },
  {
   "cell_type": "code",
   "execution_count": null,
   "id": "374a4eb9",
   "metadata": {},
   "outputs": [],
   "source": [
    "rm_white_img = crop_white(np.array(large_patch)[..., :3])\n",
    "fig, ax = plt.subplots(1, 2, figsize=(10, 2))\n",
    "ax[0].imshow(large_patch)\n",
    "ax[1].imshow(rm_white_img)"
   ]
  },
  {
   "cell_type": "code",
   "execution_count": null,
   "id": "23c90713",
   "metadata": {},
   "outputs": [],
   "source": [
    "import math\n",
    "import cv2\n",
    "\n",
    "sz = 256\n",
    "pad = 128\n",
    "N = 9\n",
    "\n",
    "\n",
    "def tile(img):\n",
    "    shape = img.shape\n",
    "    pad0, pad1 = (sz - shape[0] % sz) % sz, (sz - shape[1] % sz) % sz\n",
    "    img = np.pad(img, [[pad0 // 2, pad0 - pad0 // 2], [pad1 // 2, pad1 - pad1 // 2], [0, 0]], constant_values=255)\n",
    "    print([[pad0 // 2, pad0 - pad0 // 2], [pad1 // 2, pad1 - pad1 // 2], [0, 0]])\n",
    "    img = img.reshape(img.shape[0] // sz, sz, img.shape[1] // sz, sz, 3)\n",
    "    img = img.transpose(0, 2, 1, 3, 4).reshape(-1, sz, sz, 3)\n",
    "    if len(img) < N:\n",
    "        img = np.pad(img, [[0, N - len(img)], [0, 0], [0, 0], [0, 0]], constant_values=255)\n",
    "    idxs = np.argsort(img.reshape(img.shape[0], -1).sum(-1))[:N]\n",
    "    img = img[idxs]\n",
    "    return img\n",
    "\n",
    "\n",
    "def concate_images(img):\n",
    "    assert len(img.shape) == 4\n",
    "    assert img.shape[0] == N\n",
    "    ax_size = int(math.sqrt(N))\n",
    "    order_index = np.arange(0, N).reshape(ax_size, ax_size)\n",
    "    hconcat = [cv2.hconcat(img[i]) for i in order_index]\n",
    "    con_img = cv2.vconcat(hconcat)\n",
    "    return con_img"
   ]
  },
  {
   "cell_type": "code",
   "execution_count": null,
   "id": "df7a0a0e",
   "metadata": {},
   "outputs": [],
   "source": [
    "remove_image_b = crop_white(np.array(image_b)[0])  # white 의 값을 제거\n",
    "tile_images = tile(remove_image_b)  # Patch로 나눔\n",
    "concate_img = concate_images(tile_images)  # 다시 vis concate"
   ]
  },
  {
   "cell_type": "code",
   "execution_count": null,
   "id": "598eaca1",
   "metadata": {},
   "outputs": [],
   "source": [
    "fig, axs = plt.subplots(1, 2)\n",
    "axs[0].imshow(remove_image_b)\n",
    "axs[1].imshow(concate_img)\n",
    "\n",
    "del remove_image_b, image_b, concate_img"
   ]
  },
  {
   "cell_type": "markdown",
   "id": "0f52f236",
   "metadata": {},
   "source": [
    "### color normalization"
   ]
  },
  {
   "cell_type": "markdown",
   "id": "16caabe7",
   "metadata": {},
   "source": [
    "일반적으로 Pathology image는 색의 분포가 다르다.\n",
    "이를 맞춰주는 작업도 필요하다.(학습시 필수는 아니다)"
   ]
  },
  {
   "cell_type": "code",
   "execution_count": null,
   "id": "7dc38c65",
   "metadata": {},
   "outputs": [],
   "source": [
    "data_type = train[\"data_provider\"].unique()\n",
    "print(data_type)\n",
    "\n",
    "kar_img_path = train[train[\"data_provider\"] == data_type[0]].reset_index(drop=True).loc[0, \"img_path\"]\n",
    "rad_img_path = train[train[\"data_provider\"] == data_type[1]].reset_index(drop=True).loc[0, \"img_path\"]\n",
    "\n",
    "kar_img = skimage.io.MultiImage(str(kar_img_path))\n",
    "rad_img = skimage.io.MultiImage(str(rad_img_path))\n",
    "\n",
    "remove_image_b = crop_white(np.array(kar_img)[0])\n",
    "tile_kar_images = concate_images(tile(remove_image_b))\n",
    "\n",
    "remove_image_b = crop_white(np.array(rad_img)[0])\n",
    "tile_rad_images = concate_images(tile(remove_image_b))"
   ]
  },
  {
   "cell_type": "code",
   "execution_count": null,
   "id": "6bd0fa0f",
   "metadata": {},
   "outputs": [],
   "source": [
    "fig, axs = plt.subplots(1, 2)\n",
    "axs[0].imshow(tile_kar_images)\n",
    "axs[1].imshow(tile_rad_images)"
   ]
  },
  {
   "cell_type": "code",
   "execution_count": null,
   "id": "3b629411",
   "metadata": {},
   "outputs": [],
   "source": [
    "normalizer = staintools.ReinhardColorNormalizer()\n",
    "normalizer.fit(np.array(tile_kar_images))\n",
    "reinhard_normalized = normalizer.transform(np.array(tile_rad_images))\n",
    "fig, axs = plt.subplots(1, 2)\n",
    "axs[0].imshow(tile_kar_images)\n",
    "axs[1].imshow(reinhard_normalized)"
   ]
  },
  {
   "cell_type": "code",
   "execution_count": null,
   "id": "a660a9aa",
   "metadata": {},
   "outputs": [],
   "source": [
    "normalizer = staintools.ReinhardColorNormalizer()\n",
    "normalizer.fit(np.array(tile_rad_images))\n",
    "reinhard_normalized = normalizer.transform(np.array(tile_kar_images))\n",
    "fig, axs = plt.subplots(1, 2)\n",
    "axs[0].imshow(reinhard_normalized)\n",
    "axs[1].imshow(tile_rad_images)"
   ]
  }
 ],
 "metadata": {
  "kernelspec": {
   "display_name": "medical",
   "language": "python",
   "name": "python3"
  },
  "language_info": {
   "codemirror_mode": {
    "name": "ipython",
    "version": 3
   },
   "file_extension": ".py",
   "mimetype": "text/x-python",
   "name": "python",
   "nbconvert_exporter": "python",
   "pygments_lexer": "ipython3",
   "version": "3.8.20"
  }
 },
 "nbformat": 4,
 "nbformat_minor": 5
}
